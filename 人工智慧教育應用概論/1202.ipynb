import matplotlib.pyplot as plt  # 匯入 matplotlib 以進行數據可視化
import numpy as np  # 匯入 numpy 以進行數學操作
from tensorflow.keras.layers import Dense, Flatten  # 匯入 Dense 和 Flatten 層
from tensorflow.keras.models import Sequential  # 匯入 Sequential 模型類型
from tensorflow.keras.datasets import mnist  # 匯入 MNIST 資料集模組
import tensorflow as tf  # 匯入 TensorFlow 套件

from tensorflow import keras  # 從 TensorFlow 中匯入 Keras 模組

print("TensorFlow 和 Keras 匯入成功！")  # 確認成功匯入套件


# 匯入所需的模組


# 載入 MNIST 資料集

(x_train, y_train), (x_test, y_test) = mnist.load_data()  # 載入訓練和測試資料集

# 建立神經網路模型

model = Sequential([  # 使用 Sequential 建立模型

    Flatten(input_shape=(28, 28)),  # 將 28x28 的圖片展平成一維向量

    Dense(128, activation='relu'),  # 第一層，全連接層，有 128 個神經元，使用 ReLU 激活函數

    Dense(10, activation='softmax')  # 第二層，輸出層，有 10 個神經元，使用 Softmax 激活函數

])


# 編譯模型

model.compile(optimizer='adam', loss='sparse_categorical_crossentropy',
              metrics=['accuracy'])  # 使用 Adam 優化器和損失函數進行編譯

# 訓練模型

model.fit(x_train, y_train, epochs=5)  # 使用訓練資料訓練模型 5 個週期


# 從測試集裡隨機選一個數字圖片

random_idx = np.random.randint(0, x_test.shape[0])  # 隨機選擇一個索引值

img = x_test[random_idx]  # 根據隨機索引取出圖片

# 展示這個數字圖片

plt.imshow(img, cmap='gray')  # 顯示手寫數字圖片，使用灰階顏色顯示

plt.show()  # 顯示圖片

# 預測這個數字

prediction = model.predict(img.reshape(1, 28, 28))  # 將圖片展平成模型需要的格式，進行預測

print(f'預測的數字是: {np.argmax(prediction)}')  # 輸出預測結果，即模型認為的數字
